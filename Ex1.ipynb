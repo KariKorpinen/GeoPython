{
 "cells": [
  {
   "cell_type": "code",
   "execution_count": 1,
   "metadata": {},
   "outputs": [],
   "source": [
    "ice_cream_rating = 8\n",
    "sleeping_rating = 7"
   ]
  },
  {
   "cell_type": "code",
   "execution_count": 3,
   "metadata": {},
   "outputs": [
    {
     "name": "stdin",
     "output_type": "stream",
     "text": [
      "Give first name kk\n",
      "Give last name ko\n"
     ]
    },
    {
     "name": "stdout",
     "output_type": "stream",
     "text": [
      "kk ko\n"
     ]
    }
   ],
   "source": [
    "first_name = input('Give first name')\n",
    "last_name = input('Give last name')\n",
    "my_name = first_name + ' ' + last_name \n",
    "print(my_name)"
   ]
  },
  {
   "cell_type": "code",
   "execution_count": 4,
   "metadata": {},
   "outputs": [],
   "source": [
    "happiness_rating = (ice_cream_rating + sleeping_rating)/2"
   ]
  },
  {
   "cell_type": "code",
   "execution_count": 5,
   "metadata": {},
   "outputs": [
    {
     "name": "stdout",
     "output_type": "stream",
     "text": [
      "<class 'int'>\n",
      "<class 'str'>\n",
      "<class 'float'>\n"
     ]
    }
   ],
   "source": [
    "print(type(ice_cream_rating))\n",
    "print(type(first_name))\n",
    "print(type(happiness_rating))"
   ]
  },
  {
   "cell_type": "markdown",
   "metadata": {},
   "source": [
    "happiness_rating was float, instead of int"
   ]
  },
  {
   "cell_type": "code",
   "execution_count": 9,
   "metadata": {},
   "outputs": [
    {
     "name": "stdout",
     "output_type": "stream",
     "text": [
      "My name is Dave and I give eating ice cream a score of 8 out of 10!\n",
      "I am Dave Whipp and my sleeping enjoyment rating is 7/10!\n",
      "Based on the factors above, my happiness rating is 7.5 out of 10, or 75.0 %!\n"
     ]
    }
   ],
   "source": [
    "print('My name is Dave and I give eating ice cream a score of '+ str(ice_cream_rating) + ' out of 10!')\n",
    "print('I am Dave Whipp and my sleeping enjoyment rating is ' + str(sleeping_rating) +'/10!')\n",
    "print('Based on the factors above, my happiness rating is ' + str(happiness_rating) + ' out of 10, or ' + str(happiness_rating * 10) +' %!')"
   ]
  },
  {
   "cell_type": "code",
   "execution_count": null,
   "metadata": {},
   "outputs": [],
   "source": []
  }
 ],
 "metadata": {
  "kernelspec": {
   "display_name": "Python 3",
   "language": "python",
   "name": "python3"
  },
  "language_info": {
   "codemirror_mode": {
    "name": "ipython",
    "version": 3
   },
   "file_extension": ".py",
   "mimetype": "text/x-python",
   "name": "python",
   "nbconvert_exporter": "python",
   "pygments_lexer": "ipython3",
   "version": "3.8.5"
  }
 },
 "nbformat": 4,
 "nbformat_minor": 4
}
